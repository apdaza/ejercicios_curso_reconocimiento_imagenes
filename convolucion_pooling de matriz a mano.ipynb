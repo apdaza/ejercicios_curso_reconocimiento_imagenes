{
 "cells": [
  {
   "cell_type": "markdown",
   "metadata": {},
   "source": [
    "# Ejemplo de convolución y pooling a mano \n",
    "\n",
    "para una matriz de 5x5 con ventanas de 3x3 y un paso de 1"
   ]
  },
  {
   "cell_type": "code",
   "execution_count": null,
   "metadata": {},
   "outputs": [],
   "source": [
    "Creamos una matriz de 5x5 con aleatorios entre 0 y 1 como valores"
   ]
  },
  {
   "cell_type": "code",
   "execution_count": 36,
   "metadata": {},
   "outputs": [
    {
     "name": "stdout",
     "output_type": "stream",
     "text": [
      "[[1 0 0 0 1]\n",
      " [0 1 0 1 0]\n",
      " [0 1 1 1 0]\n",
      " [1 1 0 0 1]\n",
      " [1 0 0 0 0]]\n"
     ]
    }
   ],
   "source": [
    "import numpy as np\n",
    "#original = np.zeros((5,5))\n",
    "original = np.random.randint(0,2,(5,5))\n",
    "print(original)"
   ]
  },
  {
   "cell_type": "markdown",
   "metadata": {},
   "source": [
    "se usa porcionamiento para crear la lista de ventanas"
   ]
  },
  {
   "cell_type": "code",
   "execution_count": 37,
   "metadata": {},
   "outputs": [
    {
     "name": "stdout",
     "output_type": "stream",
     "text": [
      "[[1 0 0]\n",
      " [0 1 0]\n",
      " [0 1 1]]\n",
      "[[0 0 0]\n",
      " [1 0 1]\n",
      " [1 1 1]]\n",
      "[[0 0 1]\n",
      " [0 1 0]\n",
      " [1 1 0]]\n",
      "[[0 1 0]\n",
      " [0 1 1]\n",
      " [1 1 0]]\n",
      "[[1 0 1]\n",
      " [1 1 1]\n",
      " [1 0 0]]\n",
      "[[0 1 0]\n",
      " [1 1 0]\n",
      " [0 0 1]]\n",
      "[[0 1 1]\n",
      " [1 1 0]\n",
      " [1 0 0]]\n",
      "[[1 1 1]\n",
      " [1 0 0]\n",
      " [0 0 0]]\n",
      "[[1 1 0]\n",
      " [0 0 1]\n",
      " [0 0 0]]\n"
     ]
    }
   ],
   "source": [
    "ventanas = []\n",
    "for i in range(3):\n",
    "    for j in range(3):\n",
    "        ventanas.append(original[i:i+3,j:j+3])\n",
    "\n",
    "for v in ventanas:\n",
    "    print(v)"
   ]
  },
  {
   "cell_type": "markdown",
   "metadata": {},
   "source": [
    "se hace un max_pooling de cada ventana"
   ]
  },
  {
   "cell_type": "code",
   "execution_count": 40,
   "metadata": {},
   "outputs": [
    {
     "name": "stdout",
     "output_type": "stream",
     "text": [
      "[[1. 1. 1.]\n",
      " [1. 1. 1.]\n",
      " [1. 1. 1.]]\n"
     ]
    }
   ],
   "source": [
    "resultado = np.zeros((3,3))\n",
    "for i in range(3):\n",
    "    for j in range(3):\n",
    "        if 1 in ventanas[i+j]:\n",
    "            resultado[i,j] = 1\n",
    "        else:\n",
    "            resultado[i,j] = 0\n",
    "print(resultado)"
   ]
  }
 ],
 "metadata": {
  "kernelspec": {
   "display_name": "Python 3",
   "language": "python",
   "name": "python3"
  },
  "language_info": {
   "codemirror_mode": {
    "name": "ipython",
    "version": 3
   },
   "file_extension": ".py",
   "mimetype": "text/x-python",
   "name": "python",
   "nbconvert_exporter": "python",
   "pygments_lexer": "ipython3",
   "version": "3.7.6"
  }
 },
 "nbformat": 4,
 "nbformat_minor": 4
}
