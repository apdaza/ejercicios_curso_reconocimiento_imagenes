{
 "cells": [
  {
   "cell_type": "code",
   "execution_count": 2,
   "metadata": {},
   "outputs": [
    {
     "name": "stdout",
     "output_type": "stream",
     "text": [
      "Hola mundo en python\n",
      "entrada: hi\n",
      "hi\n"
     ]
    }
   ],
   "source": [
    "print(\"Hola mundo en python\")\n",
    "x = input(\"entrada: \")\n",
    "print(x)"
   ]
  },
  {
   "cell_type": "code",
   "execution_count": 6,
   "metadata": {},
   "outputs": [
    {
     "name": "stdout",
     "output_type": "stream",
     "text": [
      "<class 'str'>\n",
      "<class 'int'>\n",
      "holaholaholaholahola\n"
     ]
    }
   ],
   "source": [
    "a = \"hola\"\n",
    "b = 5\n",
    "print(type(a))\n",
    "print(type(b))\n",
    "print(a*5)"
   ]
  },
  {
   "cell_type": "code",
   "execution_count": 9,
   "metadata": {},
   "outputs": [
    {
     "name": "stdout",
     "output_type": "stream",
     "text": [
      "9 2 11.5 11 22 27 1\n"
     ]
    }
   ],
   "source": [
    "a = 4 + 5\n",
    "b = 5 - 3\n",
    "c = 23 / 2\n",
    "d = 23 // 2\n",
    "e = 11 * 2\n",
    "f = 3 ** 3\n",
    "g = 25 % 3\n",
    "print(a, b, c, d, e, f, g)"
   ]
  },
  {
   "cell_type": "code",
   "execution_count": 13,
   "metadata": {},
   "outputs": [
    {
     "name": "stdout",
     "output_type": "stream",
     "text": [
      "True\n",
      "2\n",
      "False\n"
     ]
    }
   ],
   "source": [
    "print(5 > 3)\n",
    "print(3 & 2)\n",
    "print(True and False)"
   ]
  },
  {
   "cell_type": "code",
   "execution_count": 24,
   "metadata": {},
   "outputs": [
    {
     "name": "stdout",
     "output_type": "stream",
     "text": [
      "(1, 2, 3, 4, 5, 6)\n",
      "1\n",
      "(1, 2, 3)\n",
      "6\n",
      "(1, 2, 3, 4)\n"
     ]
    }
   ],
   "source": [
    "mi_tupla = (1, 2, 3, 4, 5, 6)\n",
    "print(mi_tupla)\n",
    "print(mi_tupla[0])\n",
    "print(mi_tupla[:3])\n",
    "print(mi_tupla[-1])\n",
    "print(mi_tupla[:-2])"
   ]
  },
  {
   "cell_type": "code",
   "execution_count": 32,
   "metadata": {},
   "outputs": [
    {
     "name": "stdout",
     "output_type": "stream",
     "text": [
      "[1, 2, 3, 4, 5]\n",
      "5\n",
      "[1, 2, 34, 4, 5]\n",
      "[1, 2, 34, 4, 5, 56]\n",
      "[1, 2, 34, 4, 5, 56, 1000]\n",
      "[1, 2, 34, 4, 5, 56]\n",
      "[1, 2, 34, 5, 56]\n",
      "[]\n"
     ]
    }
   ],
   "source": [
    "mi_lista = [1,2,3,4,5]\n",
    "print(mi_lista)\n",
    "print(mi_lista[-1])\n",
    "mi_lista[2] = 34\n",
    "print(mi_lista)\n",
    "mi_lista.append(56)\n",
    "print(mi_lista)\n",
    "mi_lista = mi_lista + [1000]\n",
    "print(mi_lista)\n",
    "mi_lista.pop()\n",
    "print(mi_lista)\n",
    "mi_lista.pop(3)\n",
    "print(mi_lista)\n",
    "mi_lista = []\n",
    "print(mi_lista)"
   ]
  },
  {
   "cell_type": "code",
   "execution_count": 35,
   "metadata": {},
   "outputs": [
    {
     "name": "stdout",
     "output_type": "stream",
     "text": [
      "1\n"
     ]
    }
   ],
   "source": [
    "mi_diccionario = {'elemento_1' : 1, 'elemento_2' : 2}\n",
    "print(mi_diccionario['elemento_1'])"
   ]
  },
  {
   "cell_type": "code",
   "execution_count": 37,
   "metadata": {},
   "outputs": [
    {
     "name": "stdout",
     "output_type": "stream",
     "text": [
      "En el Ñágara encontré un Ñandú\n"
     ]
    }
   ],
   "source": [
    "print(\"En el Ñágara encontré un Ñandú\")"
   ]
  },
  {
   "cell_type": "code",
   "execution_count": 47,
   "metadata": {},
   "outputs": [
    {
     "name": "stdout",
     "output_type": "stream",
     "text": [
      "verificado a > 3\n",
      "sali del bloque\n"
     ]
    }
   ],
   "source": [
    "a = 5\n",
    "if a > 3:\n",
    "    print(\"verificado a > 3\")\n",
    "elif a <= 3 :\n",
    "    print(\"verificado a <= 3\")\n",
    "else:\n",
    "    print(\"no se cumplen las anteriores\")\n",
    "\n",
    "print(\"sali del bloque\")\n",
    "    "
   ]
  },
  {
   "cell_type": "code",
   "execution_count": 53,
   "metadata": {},
   "outputs": [
    {
     "name": "stdout",
     "output_type": "stream",
     "text": [
      "encontrado\n",
      "también\n"
     ]
    }
   ],
   "source": [
    "lista = [1,2,3,4,5]\n",
    "\n",
    "a = 32\n",
    "\n",
    "if a in lista:\n",
    "    print(\"encontrado\")\n",
    "    \n",
    "cadena = \"12345\"\n",
    "\n",
    "if '1' in cadena:\n",
    "    print(\"encontrado\")\n",
    "    print(\"también\")"
   ]
  },
  {
   "cell_type": "code",
   "execution_count": 55,
   "metadata": {},
   "outputs": [
    {
     "name": "stdout",
     "output_type": "stream",
     "text": [
      "cumple\n",
      "cumple\n",
      "cumple\n",
      "cumple\n",
      "cumple\n",
      "cumple\n",
      "cumple\n",
      "cumple\n",
      "cumple\n",
      "terminado el bucle\n"
     ]
    }
   ],
   "source": [
    "a = 1\n",
    "\n",
    "while a < 10:\n",
    "    print(\"cumple\")\n",
    "    a += 1\n",
    "    \n",
    "print(\"terminado el bucle\")"
   ]
  },
  {
   "cell_type": "code",
   "execution_count": 60,
   "metadata": {},
   "outputs": [
    {
     "name": "stdout",
     "output_type": "stream",
     "text": [
      "1\n",
      "3\n",
      "5\n",
      "7\n",
      "9\n",
      "a\n",
      "m\n",
      "j\n"
     ]
    }
   ],
   "source": [
    "for i in range(1,11,2):\n",
    "    print(i)\n",
    "    \n",
    "for i in ['alejo','miguel','jose']:\n",
    "    print(i[0])"
   ]
  },
  {
   "cell_type": "code",
   "execution_count": 67,
   "metadata": {},
   "outputs": [
    {
     "name": "stdout",
     "output_type": "stream",
     "text": [
      "15025\n"
     ]
    }
   ],
   "source": [
    "tiempo = \"04:10:25\"\n",
    "lista = tiempo.split(\":\")\n",
    "resultado = int(lista[0])*3600 + int(lista[1])*60 + int(lista[2])\n",
    "\n",
    "print(resultado)"
   ]
  },
  {
   "cell_type": "code",
   "execution_count": 72,
   "metadata": {},
   "outputs": [
    {
     "name": "stdout",
     "output_type": "stream",
     "text": [
      "7:30:25\n"
     ]
    }
   ],
   "source": [
    "tiempo = \"04:10:25\"\n",
    "lista = tiempo.split(\":\")\n",
    "temp = int(lista[0])*3600 + int(lista[1])*60 + int(lista[2])\n",
    "lapso = 12000\n",
    "temp += lapso\n",
    "h = temp // 3600\n",
    "temp = temp % 3600 \n",
    "m = temp // 60\n",
    "temp = temp % 60\n",
    "s = temp\n",
    "nuevo_tiempo = str(h) + \":\" + str(m) + \":\" + str(s)\n",
    "print(nuevo_tiempo)"
   ]
  }
 ],
 "metadata": {
  "kernelspec": {
   "display_name": "Python 3",
   "language": "python",
   "name": "python3"
  },
  "language_info": {
   "codemirror_mode": {
    "name": "ipython",
    "version": 3
   },
   "file_extension": ".py",
   "mimetype": "text/x-python",
   "name": "python",
   "nbconvert_exporter": "python",
   "pygments_lexer": "ipython3",
   "version": "3.7.6"
  }
 },
 "nbformat": 4,
 "nbformat_minor": 4
}
