{
 "cells": [
  {
   "cell_type": "code",
   "execution_count": 2,
   "metadata": {},
   "outputs": [
    {
     "name": "stdout",
     "output_type": "stream",
     "text": [
      "llamado a una función\n"
     ]
    }
   ],
   "source": [
    "def funcion():\n",
    "    print(\"llamado a una función\")\n",
    "    \n",
    "funcion()"
   ]
  },
  {
   "cell_type": "code",
   "execution_count": 9,
   "metadata": {},
   "outputs": [
    {
     "name": "stdout",
     "output_type": "stream",
     "text": [
      "llamado a una función\n"
     ]
    }
   ],
   "source": [
    "def funcion():\n",
    "    cad = \"llamado a una función\"\n",
    "    return cad\n",
    "    \n",
    "print(funcion())"
   ]
  },
  {
   "cell_type": "code",
   "execution_count": 10,
   "metadata": {},
   "outputs": [
    {
     "name": "stdout",
     "output_type": "stream",
     "text": [
      "Hola alejo, este es mi primer llamado a una función\n"
     ]
    }
   ],
   "source": [
    "def saludar(nombre):\n",
    "    return \"Hola \" + nombre + \", este es mi primer llamado a una función\"\n",
    "\n",
    "print(saludar(\"alejo\"))\n",
    "    "
   ]
  },
  {
   "cell_type": "code",
   "execution_count": 11,
   "metadata": {},
   "outputs": [
    {
     "name": "stdout",
     "output_type": "stream",
     "text": [
      "Hola alejo, este es mi primer llamado a una función\n",
      "Hola maria, este es mi primer llamado a una función\n"
     ]
    }
   ],
   "source": [
    "def saludar(nombre=\"alejo\"):\n",
    "    return \"Hola \" + nombre + \", este es mi primer llamado a una función\"\n",
    "\n",
    "print(saludar())\n",
    "print(saludar(\"maria\"))"
   ]
  },
  {
   "cell_type": "code",
   "execution_count": 12,
   "metadata": {},
   "outputs": [
    {
     "name": "stdout",
     "output_type": "stream",
     "text": [
      "Hola alejo, este es mi primer llamado a una función\n",
      "Hola maria, este es mi primer llamado a una función\n",
      "Hola ana, este es mi primer llamado a una función\n"
     ]
    }
   ],
   "source": [
    "def saludar(*nombres):\n",
    "    for n in nombres:\n",
    "        print(\"Hola \" + n + \", este es mi primer llamado a una función\")\n",
    "\n",
    "saludar(\"alejo\", \"maria\", \"ana\")"
   ]
  },
  {
   "cell_type": "code",
   "execution_count": 17,
   "metadata": {},
   "outputs": [
    {
     "name": "stdout",
     "output_type": "stream",
     "text": [
      "Hola alejo, este es el llamado número 1 a una función\n",
      "Hola maria, este es el llamado número 2 a una función\n",
      "Hola ana, este es el llamado número 3 a una función\n"
     ]
    }
   ],
   "source": [
    "def incrementar(valor=0):\n",
    "    return (valor + 1)\n",
    "\n",
    "def saludar(*nombres):\n",
    "    cont = 0\n",
    "    for n in nombres:\n",
    "        cont = incrementar(cont)\n",
    "        print(\"Hola \" + n + \", este es el llamado número \" + str(cont) + \" a una función\")\n",
    "        \n",
    "saludar(\"alejo\", \"maria\", \"ana\")"
   ]
  },
  {
   "cell_type": "code",
   "execution_count": 18,
   "metadata": {},
   "outputs": [
    {
     "name": "stdout",
     "output_type": "stream",
     "text": [
      "Hola alejo, este es el llamado número uno a una función\n",
      "Hola maria, este es el llamado número dos a una función\n",
      "Hola ana, este es el llamado número tres a una función\n"
     ]
    }
   ],
   "source": [
    "def incrementar(valor=0):\n",
    "    return (valor + 1)\n",
    "\n",
    "def saludar(*nombres):\n",
    "    lista = ['uno', 'dos', 'tres', 'cuatro', 'cinco']\n",
    "    cont = 0\n",
    "    for n in nombres:\n",
    "        cont = incrementar(cont)\n",
    "        print(\"Hola \" + n + \", este es el llamado número \" + lista[cont-1] + \" a una función\")\n",
    "        \n",
    "saludar(\"alejo\", \"maria\", \"ana\")"
   ]
  },
  {
   "cell_type": "code",
   "execution_count": 22,
   "metadata": {},
   "outputs": [
    {
     "name": "stdout",
     "output_type": "stream",
     "text": [
      "10\n",
      "[2, 4, 5, 7, 8, 1, 3, 11, 10, 12]\n"
     ]
    }
   ],
   "source": [
    "def contador_elementos(lista):\n",
    "    if lista == []:\n",
    "        return 0\n",
    "    return 1 + contador_elementos(lista[1:])\n",
    "\n",
    "lista = [2,4,5,7,8,1,3,11,10,12]\n",
    "\n",
    "print(contador_elementos(lista))\n",
    "print(lista)"
   ]
  },
  {
   "cell_type": "code",
   "execution_count": 24,
   "metadata": {},
   "outputs": [
    {
     "name": "stdout",
     "output_type": "stream",
     "text": [
      "10\n"
     ]
    }
   ],
   "source": [
    "def contador_lista_iterativo(lista):\n",
    "    cont = 0\n",
    "    for i in lista:\n",
    "        cont += 1\n",
    "    return cont\n",
    "\n",
    "lista = [2,4,5,7,8,1,3,11,10,12]\n",
    "print(contador_lista_iterativo(lista))\n"
   ]
  },
  {
   "cell_type": "code",
   "execution_count": 25,
   "metadata": {},
   "outputs": [
    {
     "name": "stdout",
     "output_type": "stream",
     "text": [
      "8\n"
     ]
    }
   ],
   "source": [
    "def fibbo(n):\n",
    "    if n in [0,1]:\n",
    "        return 1\n",
    "    return fibbo(n-1) + fibbo(n-2)\n",
    "\n",
    "print(fibbo(5))"
   ]
  },
  {
   "cell_type": "code",
   "execution_count": 29,
   "metadata": {},
   "outputs": [
    {
     "name": "stdout",
     "output_type": "stream",
     "text": [
      "8\n"
     ]
    }
   ],
   "source": [
    "def fibbo_iterativo(n):\n",
    "    valor_1, valor_2 = 1, 1\n",
    "    while n > 0:\n",
    "        valor_1, valor_2 = valor_2, valor_1 + valor_2\n",
    "        n -= 1\n",
    "    return valor_1\n",
    "\n",
    "print(fibbo_iterativo(5))"
   ]
  },
  {
   "cell_type": "code",
   "execution_count": 46,
   "metadata": {},
   "outputs": [
    {
     "name": "stdout",
     "output_type": "stream",
     "text": [
      "19\n"
     ]
    }
   ],
   "source": [
    "def valor_carta(carta):\n",
    "    if carta[0] in ['j','q','k']:\n",
    "        return 10\n",
    "    elif carta[0] == 'a':\n",
    "        return 1\n",
    "    return int(carta[0])\n",
    "\n",
    "def verificar_as(mano):\n",
    "    if 'a' in [c[0] for c in mano]:\n",
    "        return True\n",
    "    return False\n",
    "\n",
    "def valor_mano(mano):\n",
    "    valor = 0\n",
    "    for c in mano:\n",
    "        valor += valor_carta(c)\n",
    "        \n",
    "    if valor <= 10 and verificar_as(mano):\n",
    "        valor += 10\n",
    "    \n",
    "    return valor\n",
    "\n",
    "mano = [('a','picas'),('5','treboles'),('j','corazones'),('3','diamantes')]\n",
    "\n",
    "print(valor_mano(mano))"
   ]
  },
  {
   "cell_type": "code",
   "execution_count": 63,
   "metadata": {},
   "outputs": [
    {
     "name": "stdout",
     "output_type": "stream",
     "text": [
      "[('A', 'Corazones'), ('7', 'Treboles')]\n",
      "18\n"
     ]
    }
   ],
   "source": [
    "from random import shuffle\n",
    "\n",
    "def baraja():\n",
    "    return [(x,y) for x in ['A','2','3','4','5','6','7','8','9','J','Q','K'] for y in ['Diamantes','Picas','Treboles','Corazones']]\n",
    "\n",
    "def generar_mano(baraja, cantidad=2):\n",
    "    shuffle(baraja)\n",
    "    return baraja[:cantidad]\n",
    "\n",
    "def valor_carta(carta):\n",
    "    if carta[0] in ['J','Q','K']:\n",
    "        return 10\n",
    "    elif carta[0] == 'A':\n",
    "        return 1\n",
    "    else:\n",
    "        return int(carta[0])\n",
    "\n",
    "def evaluar_temp(mano):\n",
    "    if mano == []:\n",
    "        return 0\n",
    "    else:\n",
    "        return valor_carta(mano[0])+evaluar_temp(mano[1:])\n",
    "\n",
    "def validar_as(mano):\n",
    "    if mano == []:\n",
    "        return False\n",
    "    if mano[0][0] == \"A\":\n",
    "        return True\n",
    "    return validar_as(mano[1:])\n",
    "\n",
    "def evaluar(mano):\n",
    "    if validar_as(mano) and evaluar_temp(mano) <= 11:\n",
    "        return evaluar_temp(mano) + 10\n",
    "    return evaluar_temp(mano)\n",
    "\n",
    "mano = generar_mano(baraja(),2)\n",
    "print(mano)\n",
    "print(evaluar(mano))"
   ]
  }
 ],
 "metadata": {
  "kernelspec": {
   "display_name": "Python 3",
   "language": "python",
   "name": "python3"
  },
  "language_info": {
   "codemirror_mode": {
    "name": "ipython",
    "version": 3
   },
   "file_extension": ".py",
   "mimetype": "text/x-python",
   "name": "python",
   "nbconvert_exporter": "python",
   "pygments_lexer": "ipython3",
   "version": "3.7.6"
  }
 },
 "nbformat": 4,
 "nbformat_minor": 4
}
